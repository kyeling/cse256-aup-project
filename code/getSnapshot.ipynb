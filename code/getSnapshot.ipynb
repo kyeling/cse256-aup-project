{
  "nbformat": 4,
  "nbformat_minor": 0,
  "metadata": {
    "colab": {
      "provenance": []
    },
    "kernelspec": {
      "name": "python3",
      "display_name": "Python 3"
    },
    "language_info": {
      "name": "python"
    }
  },
  "cells": [
    {
      "cell_type": "code",
      "source": [
        "!pip install beautifulsoup4 \n",
        "!pip install google\n",
        "!pip install PyPDF2"
      ],
      "metadata": {
        "colab": {
          "base_uri": "https://localhost:8080/"
        },
        "id": "aw0v_q6Fzhhq",
        "outputId": "0bbd851d-eef8-4e85-e524-040830b20439"
      },
      "execution_count": 1,
      "outputs": [
        {
          "output_type": "stream",
          "name": "stdout",
          "text": [
            "Looking in indexes: https://pypi.org/simple, https://us-python.pkg.dev/colab-wheels/public/simple/\n",
            "Requirement already satisfied: beautifulsoup4 in /usr/local/lib/python3.10/dist-packages (4.11.2)\n",
            "Requirement already satisfied: soupsieve>1.2 in /usr/local/lib/python3.10/dist-packages (from beautifulsoup4) (2.4.1)\n",
            "Looking in indexes: https://pypi.org/simple, https://us-python.pkg.dev/colab-wheels/public/simple/\n",
            "Requirement already satisfied: google in /usr/local/lib/python3.10/dist-packages (2.0.3)\n",
            "Requirement already satisfied: beautifulsoup4 in /usr/local/lib/python3.10/dist-packages (from google) (4.11.2)\n",
            "Requirement already satisfied: soupsieve>1.2 in /usr/local/lib/python3.10/dist-packages (from beautifulsoup4->google) (2.4.1)\n",
            "Looking in indexes: https://pypi.org/simple, https://us-python.pkg.dev/colab-wheels/public/simple/\n",
            "Collecting PyPDF2\n",
            "  Downloading pypdf2-3.0.1-py3-none-any.whl (232 kB)\n",
            "\u001b[2K     \u001b[90m━━━━━━━━━━━━━━━━━━━━━━━━━━━━━━━━━━━━━━━\u001b[0m \u001b[32m232.6/232.6 kB\u001b[0m \u001b[31m5.8 MB/s\u001b[0m eta \u001b[36m0:00:00\u001b[0m\n",
            "\u001b[?25hInstalling collected packages: PyPDF2\n",
            "Successfully installed PyPDF2-3.0.1\n"
          ]
        }
      ]
    },
    {
      "cell_type": "code",
      "execution_count": 2,
      "metadata": {
        "id": "5N5Ze_AjvJrA"
      },
      "outputs": [],
      "source": [
        "import data\n",
        "import csv\n",
        "import pandas as pd\n"
      ]
    },
    {
      "cell_type": "code",
      "source": [
        "def readInFile(filename = 'master.csv'):\n",
        "  aup_data = []\n",
        "  aup_id = []\n",
        "  with open(filename) as csv_file:\n",
        "      csv_reader = csv.reader(csv_file, delimiter=',')\n",
        "      line_count = 0\n",
        "      for row in csv_reader:\n",
        "          if line_count == 0:\n",
        "              print(f'Column names are {\", \".join(row)}')\n",
        "              line_count += 1\n",
        "          else:      \n",
        "              aup_data.append(row[2])\n",
        "              aup_id.append(row[1])\n",
        "\n",
        "  return aup_data, aup_id"
      ],
      "metadata": {
        "id": "HfNJ9My9-Q3B"
      },
      "execution_count": 3,
      "outputs": []
    },
    {
      "cell_type": "markdown",
      "source": [
        "# Url Collection"
      ],
      "metadata": {
        "id": "U7W-NuZ0gtNZ"
      }
    },
    {
      "cell_type": "code",
      "source": [
        "# for each url we find their snapshots for the past 10 years, one for each year\n",
        "def collectURL(aup_data):\n",
        "  '''\n",
        "  url_snapshots_dict: {\n",
        "      url: (year, snapshot)\n",
        "  }\n",
        "  '''\n",
        "  url_snapshots_dict = {}\n",
        "\n",
        "  for url in aup_data:\n",
        "    try:\n",
        "      snapshots, timestamps = data.get_snapshots(url)\n",
        "      snapshot_within_10_years = []\n",
        "      listed_years = [] # a list that keeps the recorded years since we only want 1 snapshot each year\n",
        "      for i in range(len(timestamps)):\n",
        "        year = int(timestamps[i][:4])\n",
        "        if year in listed_years:\n",
        "          continue\n",
        "        # if the timestamp is within 10 years, append corresponding snapshot\n",
        "        if year >= 2013 and year <= 2023:\n",
        "          snapshot_within_10_years.append((year, snapshots[i]))\n",
        "          listed_years.append(year)\n",
        "      url_snapshots_dict[url] = snapshot_within_10_years\n",
        "    except Exception as inst: \n",
        "      print(f\"Exception when dealing with {url}\")\n",
        "      print(inst)\n",
        "      continue\n",
        "  \n",
        "  return url_snapshots_dict"
      ],
      "metadata": {
        "id": "B80D7RUw0bZ1"
      },
      "execution_count": 6,
      "outputs": []
    },
    {
      "cell_type": "code",
      "source": [
        "def writeToCSV(url_snapshots_dict):\n",
        "  try:\n",
        "    df = pd.DataFrame(url_snapshots_dict.items(), columns=['aup-url', 'snapshots'])\n",
        "    df.to_csv('snapshots_from_googlesearch.csv', index=False, header=True)\n",
        "    return True\n",
        "  except:\n",
        "    print(\"Error wrting to CSV\")\n",
        "    return False"
      ],
      "metadata": {
        "id": "LA_NWXnGgIPE"
      },
      "execution_count": 7,
      "outputs": []
    },
    {
      "cell_type": "code",
      "source": [
        "aup_data = readInFile()\n",
        "url_snapshots_dict = collectURL(aup_data)\n",
        "writeToCSV(url_snapshots_dict)"
      ],
      "metadata": {
        "id": "kenMwq05qobt"
      },
      "execution_count": null,
      "outputs": []
    },
    {
      "cell_type": "code",
      "source": [
        "aup_data, aup_id = readInFile()\n",
        "print(len(aup_data))\n",
        "print(len(aup_id))"
      ],
      "metadata": {
        "colab": {
          "base_uri": "https://localhost:8080/"
        },
        "id": "pdKtyzveHlaK",
        "outputId": "6abd682d-ea17-4429-a243-99d04f3251b1"
      },
      "execution_count": 13,
      "outputs": [
        {
          "output_type": "stream",
          "name": "stdout",
          "text": [
            "Column names are source, id, url, filepath, link-to-filepath, sector\n",
            "73\n",
            "73\n"
          ]
        }
      ]
    },
    {
      "cell_type": "code",
      "source": [
        "url_snapshots_dict = collectURL(aup_data)\n",
        "len(url_snapshots_dict)"
      ],
      "metadata": {
        "colab": {
          "base_uri": "https://localhost:8080/"
        },
        "id": "iog82n6WDPsa",
        "outputId": "e2564fc9-6bbb-4a9a-f2f9-8b6c64afc44f"
      },
      "execution_count": 14,
      "outputs": [
        {
          "output_type": "execute_result",
          "data": {
            "text/plain": [
              "73"
            ]
          },
          "metadata": {},
          "execution_count": 14
        }
      ]
    },
    {
      "cell_type": "markdown",
      "source": [
        "# Scrap AUP content"
      ],
      "metadata": {
        "id": "isaq5MI0g9Ce"
      }
    },
    {
      "cell_type": "code",
      "source": [
        "len(url_snapshots_dict)"
      ],
      "metadata": {
        "colab": {
          "base_uri": "https://localhost:8080/"
        },
        "id": "JROaIBssRPE4",
        "outputId": "e96cec87-6140-40eb-a3c4-dc6578d67eb2"
      },
      "execution_count": 21,
      "outputs": [
        {
          "output_type": "execute_result",
          "data": {
            "text/plain": [
              "73"
            ]
          },
          "metadata": {},
          "execution_count": 21
        }
      ]
    },
    {
      "cell_type": "code",
      "source": [
        "# Now, we start to get AUP content using the urls\n",
        "def scrapAUP(url_snapshots_dict, aup_id):\n",
        "  idx = 0\n",
        "\n",
        "  for url, tuples in url_snapshots_dict.items():\n",
        "    print(f\"URL currently working with {aup_id[idx]}\")\n",
        "    \n",
        "    if len(tuples) == 0:\n",
        "      print(f\"{aup_id[idx]} is skipped\")\n",
        "      continue\n",
        "    years = [t[0] for t in tuples]\n",
        "    snapshots = [t[1] for t in tuples]\n",
        "    for i in range(len(snapshots)):\n",
        "      fname = f\"snapshots/{aup_id[idx]}-{years[i]}.txt\"\n",
        "      data.get_aup_content(snapshots[i], fname)\n",
        "\n",
        "    print(f\"Finish with {aup_id[idx]}\")\n",
        "    idx += 1\n"
      ],
      "metadata": {
        "id": "VrS00UKqnzap"
      },
      "execution_count": 33,
      "outputs": []
    },
    {
      "cell_type": "code",
      "source": [
        "scrapAUP(url_snapshots_dict, aup_id)"
      ],
      "metadata": {
        "id": "Gv-Lte_yq_FG",
        "colab": {
          "base_uri": "https://localhost:8080/"
        },
        "outputId": "fcd0c9bb-c0d2-4c0e-d1b1-b60a07d21b2d"
      },
      "execution_count": 32,
      "outputs": [
        {
          "output_type": "stream",
          "name": "stdout",
          "text": [
            "URL currently working with 14\n",
            "Finish with 14\n",
            "URL currently working with 40\n",
            "Finish with 40\n",
            "URL currently working with 43\n",
            "Finish with 43\n",
            "URL currently working with 156\n",
            "Finish with 156\n",
            "URL currently working with 301\n",
            "URL currently working with 301\n",
            "Finish with 301\n",
            "URL currently working with 354\n",
            "URL currently working with 354\n",
            "Finish with 354\n",
            "URL currently working with 585\n",
            "URL currently working with 585\n",
            "Finish with 585\n",
            "URL currently working with 586\n",
            "Finish with 586\n",
            "URL currently working with 838\n",
            "Finish with 838\n",
            "URL currently working with 1028\n",
            "URL currently working with 1028\n",
            "Finish with 1028\n",
            "URL currently working with 1091\n",
            "Finish with 1091\n",
            "URL currently working with 1145\n",
            "URL currently working with 1145\n",
            "Finish with 1145\n",
            "URL currently working with 1296\n",
            "Finish with 1296\n",
            "URL currently working with 1350\n",
            "Finish with 1350\n",
            "URL currently working with 1657\n",
            "Finish with 1657\n",
            "URL currently working with 1706\n",
            "URL currently working with 1706\n",
            "Finish with 1706\n",
            "URL currently working with 1710\n",
            "Finish with 1710\n",
            "URL currently working with 1893\n",
            "Finish with 1893\n",
            "URL currently working with 2060\n",
            "Finish with 2060\n",
            "URL currently working with 2111\n",
            "Finish with 2111\n",
            "URL currently working with 2510\n",
            "Finish with 2510\n",
            "URL currently working with 2553\n",
            "Finish with 2553\n",
            "URL currently working with 2661\n",
            "Finish with 2661\n",
            "URL currently working with 3041\n",
            "Finish with 3041\n",
            "URL currently working with 3045\n",
            "Finish with 3045\n",
            "URL currently working with 3080\n",
            "Finish with 3080\n",
            "URL currently working with 3352\n",
            "Finish with 3352\n",
            "URL currently working with 3839\n",
            "Finish with 3839\n",
            "URL currently working with 5524\n",
            "Finish with 5524\n",
            "URL currently working with 6215\n",
            "Finish with 6215\n",
            "URL currently working with 6236\n",
            "Finish with 6236\n",
            "URL currently working with 6688\n",
            "Finish with 6688\n",
            "URL currently working with 7081\n",
            "Finish with 7081\n",
            "URL currently working with 7094\n",
            "Finish with 7094\n",
            "URL currently working with 7287\n",
            "Finish with 7287\n",
            "URL currently working with 7289\n",
            "Finish with 7289\n",
            "URL currently working with 7346\n",
            "Finish with 7346\n",
            "URL currently working with 7705\n",
            "Finish with 7705\n",
            "URL currently working with 8546\n",
            "Finish with 8546\n",
            "URL currently working with 8628\n",
            "Finish with 8628\n",
            "URL currently working with 8643\n",
            "Finish with 8643\n",
            "URL currently working with 9139\n",
            "Finish with 9139\n",
            "URL currently working with 9864\n",
            "Finish with 9864\n",
            "URL currently working with 9999\n",
            "Finish with 9999\n",
            "URL currently working with 13\n",
            "Finish with 13\n",
            "URL currently working with 17\n",
            "Finish with 17\n",
            "URL currently working with 22\n",
            "Finish with 22\n",
            "URL currently working with 26\n",
            "Finish with 26\n",
            "URL currently working with 45\n",
            "Finish with 45\n",
            "URL currently working with 50\n",
            "Finish with 50\n",
            "URL currently working with 57\n",
            "Finish with 57\n",
            "URL currently working with 60\n",
            "Finish with 60\n",
            "URL currently working with 64\n",
            "Finish with 64\n",
            "URL currently working with 77\n",
            "URL currently working with 77\n",
            "Finish with 77\n",
            "URL currently working with 82\n",
            "Finish with 82\n",
            "URL currently working with 97\n",
            "Finish with 97\n",
            "URL currently working with 98\n",
            "Finish with 98\n",
            "URL currently working with 107\n",
            "Finish with 107\n",
            "URL currently working with 115\n",
            "URL currently working with 115\n",
            "Finish with 115\n",
            "URL currently working with 116\n",
            "Finish with 116\n",
            "URL currently working with 127\n",
            "Finish with 127\n",
            "URL currently working with 129\n",
            "URL currently working with 129\n",
            "Finish with 129\n",
            "URL currently working with 144\n",
            "Finish with 144\n",
            "URL currently working with 146\n",
            "Finish with 146\n"
          ]
        }
      ]
    },
    {
      "cell_type": "code",
      "source": [
        "!tar -zcvf snapshots.tar.gz snapshots/ # get the data off colab"
      ],
      "metadata": {
        "colab": {
          "base_uri": "https://localhost:8080/"
        },
        "id": "paLNVPV-9U8A",
        "outputId": "0a2d9ade-47d0-458f-e5d0-505e7894d619"
      },
      "execution_count": 34,
      "outputs": [
        {
          "output_type": "stream",
          "name": "stdout",
          "text": [
            "snapshots/\n",
            "snapshots/17-2020.txt\n",
            "snapshots/301-2021.txt\n",
            "snapshots/129-2022.txt\n",
            "snapshots/60-2021.txt\n",
            "snapshots/7081-2022.txt\n",
            "snapshots/1893-2023.txt\n",
            "snapshots/1296-2014.txt\n",
            "snapshots/156-2021.txt\n",
            "snapshots/586-2023.txt\n",
            "snapshots/22-2021.txt\n",
            "snapshots/7705-2021.txt\n",
            "snapshots/3352-2018.txt\n",
            "snapshots/7287-2021.txt\n",
            "snapshots/1091-2018.txt\n",
            "snapshots/2661-2014.txt\n",
            "snapshots/6215-2021.txt\n",
            "snapshots/1091-2017.txt\n",
            "snapshots/40-2023.txt\n",
            "snapshots/1296-2023.txt\n",
            "snapshots/9999-2022.txt\n",
            "snapshots/1296-2017.txt\n",
            "snapshots/1657-2017.txt\n",
            "snapshots/3352-2021.txt\n",
            "snapshots/2553-2023.txt\n",
            "snapshots/50-2019.txt\n",
            "snapshots/1296-2021.txt\n",
            "snapshots/9864-2021.txt\n",
            "snapshots/22-2018.txt\n",
            "snapshots/40-2022.txt\n",
            "snapshots/3041-2021.txt\n",
            "snapshots/127-2020.txt\n",
            "snapshots/2510-2017.txt\n",
            "snapshots/1893-2020.txt\n",
            "snapshots/9999-2023.txt\n",
            "snapshots/57-2019.txt\n",
            "snapshots/43-2020.txt\n",
            "snapshots/2661-2021.txt\n",
            "snapshots/586-2020.txt\n",
            "snapshots/1657-2021.txt\n",
            "snapshots/13-2022.txt\n",
            "snapshots/7289-2020.txt\n",
            "snapshots/14-2017.txt\n",
            "snapshots/7287-2022.txt\n",
            "snapshots/3352-2019.txt\n",
            "snapshots/1091-2021.txt\n",
            "snapshots/3045-2023.txt\n",
            "snapshots/2111-2019.txt\n",
            "snapshots/2060-2022.txt\n",
            "snapshots/60-2022.txt\n",
            "snapshots/3041-2022.txt\n",
            "snapshots/7289-2021.txt\n",
            "snapshots/7289-2017.txt\n",
            "snapshots/127-2019.txt\n",
            "snapshots/127-2014.txt\n",
            "snapshots/9864-2020.txt\n",
            "snapshots/43-2016.txt\n",
            "snapshots/586-2022.txt\n",
            "snapshots/107-2023.txt\n",
            "snapshots/82-2020.txt\n",
            "snapshots/144-2021.txt\n",
            "snapshots/585-2023.txt\n",
            "snapshots/1350-2022.txt\n",
            "snapshots/6215-2023.txt\n",
            "snapshots/156-2023.txt\n",
            "snapshots/2510-2018.txt\n",
            "snapshots/43-2019.txt\n",
            "snapshots/64-2020.txt\n",
            "snapshots/97-2021.txt\n",
            "snapshots/2510-2021.txt\n",
            "snapshots/1657-2022.txt\n",
            "snapshots/129-2020.txt\n",
            "snapshots/7081-2023.txt\n",
            "snapshots/1145-2022.txt\n",
            "snapshots/50-2022.txt\n",
            "snapshots/26-2023.txt\n",
            "snapshots/98-2022.txt\n",
            "snapshots/17-2021.txt\n",
            "snapshots/3352-2023.txt\n",
            "snapshots/43-2018.txt\n",
            "snapshots/98-2023.txt\n",
            "snapshots/586-2017.txt\n",
            "snapshots/107-2016.txt\n",
            "snapshots/22-2022.txt\n",
            "snapshots/8643-2023.txt\n",
            "snapshots/2661-2016.txt\n",
            "snapshots/115-2023.txt\n",
            "snapshots/60-2023.txt\n",
            "snapshots/1296-2015.txt\n",
            "snapshots/7287-2023.txt\n",
            "snapshots/50-2023.txt\n",
            "snapshots/1091-2020.txt\n",
            "snapshots/7289-2019.txt\n",
            "snapshots/8643-2020.txt\n",
            "snapshots/8643-2021.txt\n",
            "snapshots/43-2017.txt\n",
            "snapshots/3839-2021.txt\n",
            "snapshots/2661-2018.txt\n",
            "snapshots/354-2021.txt\n",
            "snapshots/156-2018.txt\n",
            "snapshots/127-2021.txt\n",
            "snapshots/9139-2022.txt\n",
            "snapshots/146-2022.txt\n",
            "snapshots/8546-2022.txt\n",
            "snapshots/82-2021.txt\n",
            "snapshots/3041-2023.txt\n",
            "snapshots/301-2023.txt\n",
            "snapshots/7346-2020.txt\n",
            "snapshots/2510-2023.txt\n",
            "snapshots/22-2023.txt\n",
            "snapshots/2510-2022.txt\n",
            "snapshots/107-2017.txt\n",
            "snapshots/8546-2019.txt\n",
            "snapshots/17-2023.txt\n",
            "snapshots/77-2023.txt\n",
            "snapshots/97-2022.txt\n",
            "snapshots/107-2020.txt\n",
            "snapshots/127-2017.txt\n",
            "snapshots/26-2022.txt\n",
            "snapshots/98-2021.txt\n",
            "snapshots/9999-2021.txt\n",
            "snapshots/156-2020.txt\n",
            "snapshots/129-2021.txt\n",
            "snapshots/116-2023.txt\n",
            "snapshots/838-2022.txt\n",
            "snapshots/5524-2021.txt\n",
            "snapshots/1028-2018.txt\n",
            "snapshots/2510-2020.txt\n",
            "snapshots/116-2021.txt\n",
            "snapshots/1145-2019.txt\n",
            "snapshots/26-2021.txt\n",
            "snapshots/50-2021.txt\n",
            "snapshots/13-2020.txt\n",
            "snapshots/8546-2020.txt\n",
            "snapshots/129-2023.txt\n",
            "snapshots/2553-2022.txt\n",
            "snapshots/2661-2015.txt\n",
            "snapshots/57-2021.txt\n",
            "snapshots/97-2023.txt\n",
            "snapshots/1657-2015.txt\n",
            "snapshots/6215-2022.txt\n",
            "snapshots/57-2022.txt\n",
            "snapshots/13-2015.txt\n",
            "snapshots/7705-2022.txt\n",
            "snapshots/1657-2023.txt\n",
            "snapshots/3041-2020.txt\n",
            "snapshots/43-2013.txt\n",
            "snapshots/7289-2016.txt\n",
            "snapshots/43-2021.txt\n",
            "snapshots/1296-2016.txt\n",
            "snapshots/146-2023.txt\n",
            "snapshots/301-2022.txt\n",
            "snapshots/64-2019.txt\n",
            "snapshots/116-2022.txt\n",
            "snapshots/2661-2017.txt\n",
            "snapshots/7346-2021.txt\n",
            "snapshots/7705-2020.txt\n",
            "snapshots/127-2023.txt\n",
            "snapshots/7094-2021.txt\n",
            "snapshots/13-2023.txt\n",
            "snapshots/9999-2020.txt\n",
            "snapshots/838-2020.txt\n",
            "snapshots/127-2016.txt\n",
            "snapshots/43-2023.txt\n",
            "snapshots/1091-2022.txt\n",
            "snapshots/82-2023.txt\n",
            "snapshots/3045-2022.txt\n",
            "snapshots/354-2022.txt\n",
            "snapshots/8643-2022.txt\n",
            "snapshots/107-2015.txt\n",
            "snapshots/1145-2021.txt\n",
            "snapshots/9139-2023.txt\n",
            "snapshots/1893-2021.txt\n",
            "snapshots/64-2022.txt\n",
            "snapshots/2060-2023.txt\n",
            "snapshots/7287-2020.txt\n",
            "snapshots/43-2015.txt\n",
            "snapshots/156-2019.txt\n",
            "snapshots/8546-2023.txt\n",
            "snapshots/3080-2023.txt\n",
            "snapshots/6236-2023.txt\n",
            "snapshots/64-2023.txt\n",
            "snapshots/7705-2023.txt\n",
            "snapshots/1028-2019.txt\n",
            "snapshots/45-2023.txt\n",
            "snapshots/14-2016.txt\n",
            "snapshots/1296-2022.txt\n",
            "snapshots/1657-2020.txt\n",
            "snapshots/586-2021.txt\n",
            "snapshots/64-2021.txt\n",
            "snapshots/2661-2020.txt\n",
            "snapshots/8628-2023.txt\n",
            "snapshots/1710-2022.txt\n",
            "snapshots/57-2023.txt\n",
            "snapshots/586-2018.txt\n",
            "snapshots/2661-2019.txt\n",
            "snapshots/50-2018.txt\n",
            "snapshots/60-2020.txt\n",
            "snapshots/1657-2018.txt\n",
            "snapshots/9864-2023.txt\n",
            "snapshots/1028-2021.txt\n",
            "snapshots/3352-2020.txt\n",
            "snapshots/22-2019.txt\n",
            "snapshots/6236-2022.txt\n",
            "snapshots/586-2019.txt\n",
            "snapshots/144-2023.txt\n",
            "snapshots/107-2022.txt\n",
            "snapshots/1145-2020.txt\n",
            "snapshots/1091-2019.txt\n",
            "snapshots/1710-2021.txt\n",
            "snapshots/60-2019.txt\n",
            "snapshots/3352-2022.txt\n",
            "snapshots/156-2022.txt\n",
            "snapshots/7289-2018.txt\n",
            "snapshots/43-2022.txt\n",
            "snapshots/1657-2016.txt\n",
            "snapshots/838-2023.txt\n",
            "snapshots/14-2019.txt\n",
            "snapshots/354-2023.txt\n",
            "snapshots/107-2018.txt\n",
            "snapshots/14-2018.txt\n",
            "snapshots/17-2022.txt\n",
            "snapshots/107-2019.txt\n",
            "snapshots/7289-2022.txt\n",
            "snapshots/107-2021.txt\n",
            "snapshots/82-2022.txt\n",
            "snapshots/22-2015.txt\n",
            "snapshots/2661-2022.txt\n",
            "snapshots/50-2020.txt\n",
            "snapshots/1091-2023.txt\n",
            "snapshots/13-2016.txt\n",
            "snapshots/1710-2023.txt\n",
            "snapshots/127-2015.txt\n",
            "snapshots/57-2020.txt\n",
            "snapshots/14-2022.txt\n",
            "snapshots/22-2017.txt\n",
            "snapshots/7289-2023.txt\n",
            "snapshots/6688-2023.txt\n",
            "snapshots/7346-2022.txt\n",
            "snapshots/838-2021.txt\n",
            "snapshots/13-2021.txt\n",
            "snapshots/22-2016.txt\n",
            "snapshots/8546-2021.txt\n",
            "snapshots/2510-2019.txt\n",
            "snapshots/585-2022.txt\n",
            "snapshots/1350-2023.txt\n",
            "snapshots/22-2020.txt\n",
            "snapshots/1145-2023.txt\n",
            "snapshots/1657-2019.txt\n",
            "snapshots/127-2022.txt\n",
            "snapshots/5524-2022.txt\n",
            "snapshots/1893-2022.txt\n",
            "snapshots/40-2021.txt\n",
            "snapshots/9864-2022.txt\n",
            "snapshots/3080-2022.txt\n"
          ]
        }
      ]
    },
    {
      "cell_type": "code",
      "source": [
        "!rm -rf snapshots/"
      ],
      "metadata": {
        "id": "0nKdbIdqUnUS"
      },
      "execution_count": 26,
      "outputs": []
    }
  ]
}