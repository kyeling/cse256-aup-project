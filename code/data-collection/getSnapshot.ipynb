{
  "cells": [
    {
      "cell_type": "code",
      "execution_count": null,
      "metadata": {
        "colab": {
          "base_uri": "https://localhost:8080/"
        },
        "id": "aw0v_q6Fzhhq",
        "outputId": "0bbd851d-eef8-4e85-e524-040830b20439"
      },
      "outputs": [],
      "source": [
        "!pip install beautifulsoup4 \n",
        "!pip install google\n",
        "!pip install PyPDF2"
      ]
    },
    {
      "cell_type": "code",
      "execution_count": null,
      "metadata": {
        "id": "5N5Ze_AjvJrA"
      },
      "outputs": [],
      "source": [
        "import data\n",
        "import csv\n",
        "import pandas as pd\n"
      ]
    },
    {
      "cell_type": "code",
      "execution_count": null,
      "metadata": {
        "id": "HfNJ9My9-Q3B"
      },
      "outputs": [],
      "source": [
        "def readInFile(filename = 'master.csv'):\n",
        "  aup_data = []\n",
        "  aup_id = []\n",
        "  with open(filename) as csv_file:\n",
        "      csv_reader = csv.reader(csv_file, delimiter=',')\n",
        "      line_count = 0\n",
        "      for row in csv_reader:\n",
        "          if line_count == 0:\n",
        "              print(f'Column names are {\", \".join(row)}')\n",
        "              line_count += 1\n",
        "          else:      \n",
        "              aup_data.append(row[2])\n",
        "              aup_id.append(row[1])\n",
        "\n",
        "  return aup_data, aup_id"
      ]
    },
    {
      "attachments": {},
      "cell_type": "markdown",
      "metadata": {
        "id": "U7W-NuZ0gtNZ"
      },
      "source": [
        "# Url Collection"
      ]
    },
    {
      "cell_type": "code",
      "execution_count": null,
      "metadata": {
        "id": "B80D7RUw0bZ1"
      },
      "outputs": [],
      "source": [
        "# for each url we find their snapshots for the past 10 years, one for each year\n",
        "def collectURL(aup_data):\n",
        "  '''\n",
        "  url_snapshots_dict: {\n",
        "      url: (year, snapshot)\n",
        "  }\n",
        "  '''\n",
        "  url_snapshots_dict = {}\n",
        "\n",
        "  for url in aup_data:\n",
        "    try:\n",
        "      snapshots, timestamps = data.get_snapshots(url)\n",
        "      snapshot_within_10_years = []\n",
        "      listed_years = [] # a list that keeps the recorded years since we only want 1 snapshot each year\n",
        "      for i in range(len(timestamps)):\n",
        "        year = int(timestamps[i][:4])\n",
        "        if year in listed_years:\n",
        "          continue\n",
        "        # if the timestamp is within 10 years, append corresponding snapshot\n",
        "        if year >= 2013 and year <= 2023:\n",
        "          snapshot_within_10_years.append((year, snapshots[i]))\n",
        "          listed_years.append(year)\n",
        "      url_snapshots_dict[url] = snapshot_within_10_years\n",
        "    except Exception as inst: \n",
        "      print(f\"Exception when dealing with {url}\")\n",
        "      print(inst)\n",
        "      continue\n",
        "  \n",
        "  return url_snapshots_dict"
      ]
    },
    {
      "cell_type": "code",
      "execution_count": null,
      "metadata": {
        "id": "LA_NWXnGgIPE"
      },
      "outputs": [],
      "source": [
        "def writeToCSV(url_snapshots_dict):\n",
        "  try:\n",
        "    df = pd.DataFrame(url_snapshots_dict.items(), columns=['aup-url', 'snapshots'])\n",
        "    df.to_csv('snapshots_from_googlesearch.csv', index=False, header=True)\n",
        "    return True\n",
        "  except:\n",
        "    print(\"Error wrting to CSV\")\n",
        "    return False"
      ]
    },
    {
      "cell_type": "code",
      "execution_count": null,
      "metadata": {
        "id": "kenMwq05qobt"
      },
      "outputs": [],
      "source": [
        "aup_data = readInFile()\n",
        "url_snapshots_dict = collectURL(aup_data)\n",
        "writeToCSV(url_snapshots_dict)"
      ]
    },
    {
      "cell_type": "code",
      "execution_count": null,
      "metadata": {
        "colab": {
          "base_uri": "https://localhost:8080/"
        },
        "id": "pdKtyzveHlaK",
        "outputId": "6abd682d-ea17-4429-a243-99d04f3251b1"
      },
      "outputs": [],
      "source": [
        "aup_data, aup_id = readInFile()\n",
        "print(len(aup_data))\n",
        "print(len(aup_id))"
      ]
    },
    {
      "cell_type": "code",
      "execution_count": null,
      "metadata": {
        "colab": {
          "base_uri": "https://localhost:8080/"
        },
        "id": "iog82n6WDPsa",
        "outputId": "e2564fc9-6bbb-4a9a-f2f9-8b6c64afc44f"
      },
      "outputs": [],
      "source": [
        "url_snapshots_dict = collectURL(aup_data)\n",
        "len(url_snapshots_dict)"
      ]
    },
    {
      "attachments": {},
      "cell_type": "markdown",
      "metadata": {
        "id": "isaq5MI0g9Ce"
      },
      "source": [
        "# Scrap AUP content"
      ]
    },
    {
      "cell_type": "code",
      "execution_count": null,
      "metadata": {
        "colab": {
          "base_uri": "https://localhost:8080/"
        },
        "id": "JROaIBssRPE4",
        "outputId": "e96cec87-6140-40eb-a3c4-dc6578d67eb2"
      },
      "outputs": [],
      "source": [
        "len(url_snapshots_dict)"
      ]
    },
    {
      "cell_type": "code",
      "execution_count": null,
      "metadata": {
        "id": "VrS00UKqnzap"
      },
      "outputs": [],
      "source": [
        "# Now, we start to get AUP content using the urls\n",
        "def scrapAUP(url_snapshots_dict, aup_id):\n",
        "  idx = 0\n",
        "\n",
        "  for url, tuples in url_snapshots_dict.items():\n",
        "    print(f\"URL currently working with {aup_id[idx]}\")\n",
        "    \n",
        "    if len(tuples) == 0:\n",
        "      print(f\"{aup_id[idx]} is skipped\")\n",
        "      continue\n",
        "    years = [t[0] for t in tuples]\n",
        "    snapshots = [t[1] for t in tuples]\n",
        "    for i in range(len(snapshots)):\n",
        "      fname = f\"snapshots/{aup_id[idx]}-{years[i]}.txt\"\n",
        "      data.get_aup_content(snapshots[i], fname)\n",
        "\n",
        "    print(f\"Finish with {aup_id[idx]}\")\n",
        "    idx += 1\n"
      ]
    },
    {
      "cell_type": "code",
      "execution_count": null,
      "metadata": {
        "colab": {
          "base_uri": "https://localhost:8080/"
        },
        "id": "Gv-Lte_yq_FG",
        "outputId": "fcd0c9bb-c0d2-4c0e-d1b1-b60a07d21b2d"
      },
      "outputs": [],
      "source": [
        "scrapAUP(url_snapshots_dict, aup_id)"
      ]
    },
    {
      "cell_type": "code",
      "execution_count": null,
      "metadata": {
        "colab": {
          "base_uri": "https://localhost:8080/"
        },
        "id": "paLNVPV-9U8A",
        "outputId": "0a2d9ade-47d0-458f-e5d0-505e7894d619"
      },
      "outputs": [],
      "source": [
        "!tar -zcvf snapshots.tar.gz snapshots/ # get the data off colab"
      ]
    },
    {
      "cell_type": "code",
      "execution_count": null,
      "metadata": {
        "id": "0nKdbIdqUnUS"
      },
      "outputs": [],
      "source": [
        "!rm -rf snapshots/"
      ]
    }
  ],
  "metadata": {
    "colab": {
      "provenance": []
    },
    "kernelspec": {
      "display_name": "Python 3",
      "name": "python3"
    },
    "language_info": {
      "name": "python"
    }
  },
  "nbformat": 4,
  "nbformat_minor": 0
}
